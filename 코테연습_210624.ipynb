{
 "cells": [
  {
   "cell_type": "code",
   "execution_count": null,
   "metadata": {},
   "outputs": [],
   "source": [
    "# 최댓값과 최솟값\n",
    "# 문제 설명\n",
    "# 문자열 s에는 공백으로 구분된 숫자들이 저장되어 있습니다. \n",
    "# str에 나타나는 숫자 중 최소값과 최대값을 찾아 이를 \"(최소값) (최대값)\"형태의 문자열을 반환하는 함수, solution을 완성하세요.\n",
    "# 예를들어 s가 \"1 2 3 4\"라면 \"1 4\"를 리턴하고, \"-1 -2 -3 -4\"라면 \"-4 -1\"을 리턴하면 됩니다.\n",
    "\n",
    "# 제한 조건\n",
    "# s에는 둘 이상의 정수가 공백으로 구분되어 있습니다.\n",
    "# 입출력 예\n",
    "# s                return\n",
    "# \"1 2 3 4\"       \"1 4\"\n",
    "# \"-1 -2 -3 -4\"   \"-4 -1\"\n",
    "# \"-1 -1\"         \"-1 -1\""
   ]
  },
  {
   "cell_type": "code",
   "execution_count": 26,
   "metadata": {},
   "outputs": [
    {
     "name": "stdout",
     "output_type": "stream",
     "text": [
      "-1 -1\n"
     ]
    }
   ],
   "source": [
    "s = \"-1 -1\"\n",
    "def solution(s):\n",
    "    my_list = s.split(' ')                 # 공백을 기준으로 나누어 리스트 형태로 만듦\n",
    "    for i in range(len(my_list)):\n",
    "        my_list[i] = int(my_list[i])       # 모두 정수형으로 만듦\n",
    "    my_list.sort()                         # 정렬하기\n",
    "    return str(my_list[0]) + ' ' + str(my_list[-1])\n",
    "\n",
    "print(solution(s))"
   ]
  },
  {
   "cell_type": "code",
   "execution_count": 27,
   "metadata": {},
   "outputs": [
    {
     "name": "stdout",
     "output_type": "stream",
     "text": [
      "-1 -1\n"
     ]
    }
   ],
   "source": [
    "# 다른 방법\n",
    "def solution(s):\n",
    "    s = list(map(int,s.split()))             # 공백을 기준으로 나누고 정수형으로 만들어 리스트 형태로 만듦\n",
    "    return str(min(s)) + \" \" + str(max(s))  # min함수와 max함수를 이용하여 출력\n",
    "\n",
    "print(solution(s))"
   ]
  },
  {
   "cell_type": "code",
   "execution_count": null,
   "metadata": {},
   "outputs": [],
   "source": [
    "# 소수 만들기\n",
    "# 문제 설명\n",
    "# 주어진 숫자 중 3개의 수를 더했을 때 소수가 되는 경우의 개수를 구하려고 합니다. \n",
    "# 숫자들이 들어있는 배열 nums가 매개변수로 주어질 때, \n",
    "# nums에 있는 숫자들 중 서로 다른 3개를 골라 더했을 때 소수가 되는 경우의 개수를 return 하도록 solution 함수를 완성해주세요.\n",
    "\n",
    "# 제한사항\n",
    "# nums에 들어있는 숫자의 개수는 3개 이상 50개 이하입니다.\n",
    "# nums의 각 원소는 1 이상 1,000 이하의 자연수이며, 중복된 숫자가 들어있지 않습니다.\n",
    "# 입출력 예\n",
    "# nums           result\n",
    "# [1,2,3,4]      1\n",
    "# [1,2,7,6,4]    4"
   ]
  },
  {
   "cell_type": "code",
   "execution_count": 61,
   "metadata": {},
   "outputs": [
    {
     "name": "stdout",
     "output_type": "stream",
     "text": [
      "4\n"
     ]
    }
   ],
   "source": [
    "nums = [1,2,7,6,4]\n",
    "def solution(nums):\n",
    "    from itertools import combinations\n",
    "    com_list = sorted(list(map(sum, combinations(nums,3))))\n",
    "    i_list = []\n",
    "    for i in range(2, int(com_list[-1]**0.5)+1):\n",
    "        i_list += list(range(2*i, com_list[-1]+1, i))\n",
    "    for j in i_list:\n",
    "        while j in com_list:\n",
    "            com_list.remove(j)\n",
    "    return len(com_list)\n",
    "print(solution(nums))"
   ]
  },
  {
   "cell_type": "code",
   "execution_count": null,
   "metadata": {},
   "outputs": [],
   "source": [
    "# 약수의 개수와 덧셈\n",
    "# 문제 설명\n",
    "# 두 정수 left와 right가 매개변수로 주어집니다. \n",
    "# left부터 right까지의 모든 수들 중에서, \n",
    "# 약수의 개수가 짝수인 수는 더하고, 약수의 개수가 홀수인 수는 뺀 수를 return 하도록 solution 함수를 완성해주세요.\n",
    "\n",
    "# 제한사항\n",
    "# 1 ≤ left ≤ right ≤ 1,000\n",
    "# 입출력 예\n",
    "# left   right   result\n",
    "# 13     17      43\n",
    "# 24     27      52"
   ]
  },
  {
   "cell_type": "code",
   "execution_count": 109,
   "metadata": {},
   "outputs": [
    {
     "name": "stdout",
     "output_type": "stream",
     "text": [
      "52\n"
     ]
    }
   ],
   "source": [
    "left, right = 24, 27\n",
    "\n",
    "def solution(left, right):\n",
    "    answer = 0\n",
    "    for i in range(left, right+1):\n",
    "        divisor = 1                               # 1은 모든 수의 약수이므로 기본값 한 개 배정\n",
    "        n_list = list(range(2, i+1))              # 2부터 끝까지 리스트로 배정\n",
    "        for j in n_list:\n",
    "            if i % j == 0:                        # 나누어서 0으로 떨어지는 수(약수)이면\n",
    "                divisor += 1                      # 약수 개수 하나 더하기\n",
    "        if divisor % 2 == 0: answer += i         # 약수 개수가 짝수이면 수를 더하고\n",
    "        else: answer -= i                        # 약수 개수가 홀수이면 수를 뺀다\n",
    "    return answer\n",
    "\n",
    "print(solution(left, right))"
   ]
  },
  {
   "cell_type": "code",
   "execution_count": 112,
   "metadata": {},
   "outputs": [
    {
     "name": "stdout",
     "output_type": "stream",
     "text": [
      "52\n"
     ]
    }
   ],
   "source": [
    "# 다른 풀이 - 제곱수는 약수의 개수가 홀수\n",
    "def solution(left, right):\n",
    "    answer = 0\n",
    "    for i in range(left,right+1):\n",
    "        if int(i**0.5)==i**0.5:        # 루트를 씌워서 자연수로 떨어지면\n",
    "            answer -= i                 # 약수 개수가 홀수이므로 수를 뺀다.\n",
    "        else:                          # 루트롤 씌워서 자연수로 떨어지지 않으면\n",
    "            answer += i                # 약수 개수가 짝수이므로 수를 더한다.\n",
    "    return answer\n",
    "\n",
    "print(solution(left, right))"
   ]
  }
 ],
 "metadata": {
  "kernelspec": {
   "display_name": "Python 3",
   "language": "python",
   "name": "python3"
  },
  "language_info": {
   "codemirror_mode": {
    "name": "ipython",
    "version": 3
   },
   "file_extension": ".py",
   "mimetype": "text/x-python",
   "name": "python",
   "nbconvert_exporter": "python",
   "pygments_lexer": "ipython3",
   "version": "3.8.5"
  },
  "vp": {
   "base_numbering": 1,
   "nav_menu": {},
   "number_sections": true,
   "sideBar": true,
   "title_cell": "VisualPython",
   "title_sidebar": "VisualPython",
   "vpPosition": {
    "height": "calc(100% - 180px)",
    "right": "10px",
    "top": "110px",
    "width": "50%"
   },
   "vp_cell": false,
   "vp_section_display": true,
   "vp_window_display": false
  }
 },
 "nbformat": 4,
 "nbformat_minor": 4
}

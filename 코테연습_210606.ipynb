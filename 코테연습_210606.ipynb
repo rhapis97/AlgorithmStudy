{
 "cells": [
  {
   "cell_type": "code",
   "execution_count": 1,
   "metadata": {},
   "outputs": [],
   "source": [
    "# 크레인 인형뽑기 게임\n",
    "# 문제 설명\n",
    "# 게임개발자인 \"죠르디\"는 크레인 인형뽑기 기계를 모바일 게임으로 만들려고 합니다.\n",
    "# \"죠르디\"는 게임의 재미를 높이기 위해 화면 구성과 규칙을 다음과 같이 게임 로직에 반영하려고 합니다.\n",
    "\n",
    "# crane_game_101.png\n",
    "\n",
    "# 게임 화면은 \"1 x 1\" 크기의 칸들로 이루어진 \"N x N\" 크기의 정사각 격자이며 위쪽에는 크레인이 있고 오른쪽에는 바구니가 있습니다. \n",
    "# (위 그림은 \"5 x 5\" 크기의 예시입니다). 각 격자 칸에는 다양한 인형이 들어 있으며 인형이 없는 칸은 빈칸입니다. \n",
    "# 모든 인형은 \"1 x 1\" 크기의 격자 한 칸을 차지하며 격자의 가장 아래 칸부터 차곡차곡 쌓여 있습니다. \n",
    "# 게임 사용자는 크레인을 좌우로 움직여서 멈춘 위치에서 가장 위에 있는 인형을 집어 올릴 수 있습니다. \n",
    "# 집어 올린 인형은 바구니에 쌓이게 되는 데, 이때 바구니의 가장 아래 칸부터 인형이 순서대로 쌓이게 됩니다. \n",
    "# 다음 그림은 [1번, 5번, 3번] 위치에서 순서대로 인형을 집어 올려 바구니에 담은 모습입니다.\n",
    "\n",
    "# crane_game_102.png\n",
    "\n",
    "# 만약 같은 모양의 인형 두 개가 바구니에 연속해서 쌓이게 되면 두 인형은 터뜨려지면서 바구니에서 사라지게 됩니다. \n",
    "# 위 상태에서 이어서 [5번] 위치에서 인형을 집어 바구니에 쌓으면 같은 모양 인형 두 개가 없어집니다.\n",
    "\n",
    "# crane_game_103.gif\n",
    "\n",
    "# 크레인 작동 시 인형이 집어지지 않는 경우는 없으나 만약 인형이 없는 곳에서 크레인을 작동시키는 경우에는 아무런 일도 일어나지 않습니다. \n",
    "# 또한 바구니는 모든 인형이 들어갈 수 있을 만큼 충분히 크다고 가정합니다. (그림에서는 화면표시 제약으로 5칸만으로 표현하였음)\n",
    "\n",
    "# 게임 화면의 격자의 상태가 담긴 2차원 배열 board와 인형을 집기 위해 크레인을 작동시킨 위치가 담긴 배열 moves가 매개변수로 주어질 때, \n",
    "# 크레인을 모두 작동시킨 후 터트려져 사라진 인형의 개수를 return 하도록 solution 함수를 완성해주세요.\n",
    "\n",
    "# [제한사항]\n",
    "# board 배열은 2차원 배열로 크기는 \"5 x 5\" 이상 \"30 x 30\" 이하입니다.\n",
    "# board의 각 칸에는 0 이상 100 이하인 정수가 담겨있습니다.\n",
    "# 0은 빈 칸을 나타냅니다.\n",
    "# 1 ~ 100의 각 숫자는 각기 다른 인형의 모양을 의미하며 같은 숫자는 같은 모양의 인형을 나타냅니다.\n",
    "# moves 배열의 크기는 1 이상 1,000 이하입니다.\n",
    "# moves 배열 각 원소들의 값은 1 이상이며 board 배열의 가로 크기 이하인 자연수입니다.\n",
    "\n",
    "# 입출력 예\n",
    "# board\tmoves\tresult\n",
    "# [[0,0,0,0,0],[0,0,1,0,3],[0,2,5,0,1],[4,2,4,4,2],[3,5,1,3,1]]\t[1,5,3,5,1,2,1,4]\t4"
   ]
  },
  {
   "cell_type": "code",
   "execution_count": 33,
   "metadata": {},
   "outputs": [
    {
     "name": "stdout",
     "output_type": "stream",
     "text": [
      "4\n"
     ]
    }
   ],
   "source": [
    "board = [[0,0,0,0,0],[0,0,1,0,3],[0,2,5,0,1],[4,2,4,4,2],[3,5,1,3,1]]\n",
    "moves = [1,5,3,5,1,2,1,4]\n",
    "\n",
    "def solution(board, moves):\n",
    "    basket = []\n",
    "    row = -1\n",
    "    basket_num = -1\n",
    "    count = 0\n",
    "    for i in moves:       # 몇 번째 줄로 갈지\n",
    "        for j in board:   # 한 행씩 확인\n",
    "            row += 1      # 행 위치 지정\n",
    "            if j[i-1] != 0:    # 인형이 있는 지점(0이 아닌 지점)\n",
    "                basket.append(j[i-1])    # 빈 상자에 인형 집어넣고\n",
    "                board[row][i-1] = 0      # 뽑은 자리는 0으로\n",
    "                basket_num += 1          # 뽑은 인형 수 +1 (인덱스를 표현)\n",
    "                if basket_num-1 != -1 and basket[basket_num] == basket[basket_num-1]:  # 이전 인형과 같을 경우\n",
    "                    del basket[basket_num-1:]    # 이전 인형과 현재 뽑은 인형을 둘 다 지움\n",
    "                    basket_num -= 2              # 그에 따라 상자 속 인형 수 -2\n",
    "                    count += 2                   # 인형이 사라진 수 +2\n",
    "                break    # 해당 줄의 맨 위 인형만 뽑아야 하므로 break\n",
    "        row = -1    # 행 위치 초기화\n",
    "    return count\n",
    "\n",
    "print(solution(board, moves))"
   ]
  },
  {
   "cell_type": "code",
   "execution_count": 35,
   "metadata": {},
   "outputs": [
    {
     "name": "stdout",
     "output_type": "stream",
     "text": [
      "4\n"
     ]
    }
   ],
   "source": [
    "# 다른 방법(1)\n",
    "board = [[0,0,0,0,0],[0,0,1,0,3],[0,2,5,0,1],[4,2,4,4,2],[3,5,1,3,1]]\n",
    "moves = [1,5,3,5,1,2,1,4]\n",
    "\n",
    "def solution(board, moves):\n",
    "    stacklist = []\n",
    "    answer = 0\n",
    "\n",
    "    for i in moves:\n",
    "        for j in range(len(board)):    # 보드 줄 수\n",
    "            if board[j][i-1] != 0:     # 인형이 있는 지점\n",
    "                stacklist.append(board[j][i-1])    # 빈 상자에 인형 추가\n",
    "                board[j][i-1] = 0      # 인형이 있었던 지점 0으로\n",
    "\n",
    "                if len(stacklist) > 1:    # 2 이상의 인형이 쌓였을 때\n",
    "                    if stacklist[-1] == stacklist[-2]:    # 맨 마지막과 그 앞의 인형이 같으면\n",
    "                        stacklist.pop(-1)    # 맨 뒤 인형 지우기\n",
    "                        stacklist.pop(-1)    # 맨 뒤 인형 지우기\n",
    "                        answer += 2    # 지운 인형 수 +2\n",
    "                break\n",
    "\n",
    "    return answer\n",
    "\n",
    "print(solution(board, moves))"
   ]
  },
  {
   "cell_type": "code",
   "execution_count": 36,
   "metadata": {},
   "outputs": [],
   "source": [
    "# 소수 찾기\n",
    "# 문제 설명\n",
    "# 1부터 입력받은 숫자 n 사이에 있는 소수의 개수를 반환하는 함수, solution을 만들어 보세요.\n",
    "\n",
    "# 소수는 1과 자기 자신으로만 나누어지는 수를 의미합니다.\n",
    "# (1은 소수가 아닙니다.)\n",
    "\n",
    "# 제한 조건\n",
    "# n은 2이상 1000000이하의 자연수입니다.\n",
    "# 입출력 예\n",
    "# n\tresult\n",
    "# 10\t4\n",
    "# 5\t3"
   ]
  },
  {
   "cell_type": "code",
   "execution_count": 44,
   "metadata": {},
   "outputs": [
    {
     "name": "stdout",
     "output_type": "stream",
     "text": [
      "4\n"
     ]
    }
   ],
   "source": [
    "def solution(n):\n",
    "    count = 0\n",
    "    answer = 0\n",
    "    for i in range(1,n+1):\n",
    "        for j in range(1,i+1):\n",
    "            if i%j == 0:\n",
    "                count += 1\n",
    "        if count == 2:\n",
    "            answer += 1\n",
    "        count = 0\n",
    "    return answer\n",
    "\n",
    "n = 10\n",
    "print(solution(n))\n",
    "\n",
    "# 시간이 너무 많이 걸리는 코드라 실패"
   ]
  },
  {
   "cell_type": "code",
   "execution_count": 72,
   "metadata": {},
   "outputs": [
    {
     "name": "stdout",
     "output_type": "stream",
     "text": [
      "[2, 3, 5, 7]\n"
     ]
    }
   ],
   "source": [
    "# 에리토스테네스의 체 코드 확인하기\n",
    "def prime_list(n):\n",
    "    # 에라토스테네스의 체 초기화: n개 요소에 True 설정(소수로 간주)\n",
    "    sieve = [True] * n\n",
    "\n",
    "    # n의 최대 약수가 sqrt(n) 이하이므로 i=sqrt(n)까지 검사\n",
    "    m = int(n ** 0.5)\n",
    "    for i in range(2, m + 1):\n",
    "        if sieve[i] == True:           # i가 소수인 경우\n",
    "            for j in range(i+i, n, i): # i이후 i의 배수들을 False 판정\n",
    "                sieve[j] = False\n",
    "\n",
    "    # 소수 목록 산출\n",
    "    return [i for i in range(2, n) if sieve[i] == True]\n",
    "\n",
    "n = 10\n",
    "print(prime_list(n))"
   ]
  },
  {
   "cell_type": "markdown",
   "metadata": {},
   "source": [
    "https://ko.wikipedia.org/wiki/%EC%97%90%EB%9D%BC%ED%86%A0%EC%8A%A4%ED%85%8C%EB%84%A4%EC%8A%A4%EC%9D%98_%EC%B2%B4"
   ]
  },
  {
   "cell_type": "code",
   "execution_count": 73,
   "metadata": {},
   "outputs": [
    {
     "name": "stdout",
     "output_type": "stream",
     "text": [
      "4\n"
     ]
    }
   ],
   "source": [
    "# 위의 식 이용해서 코드 새로 짜기\n",
    "def solution(n):\n",
    "    sieve = [True] * n\n",
    "    m = int(n ** 0.5)\n",
    "    for i in range(1, m):\n",
    "        if sieve[i] == True:\n",
    "            for j in range((i+1)*2-1, n, i+1):\n",
    "                sieve[j] = False\n",
    "    return sieve.count(True)-1\n",
    "\n",
    "n = 10\n",
    "print(solution(n))"
   ]
  },
  {
   "cell_type": "code",
   "execution_count": 74,
   "metadata": {},
   "outputs": [
    {
     "name": "stdout",
     "output_type": "stream",
     "text": [
      "4\n"
     ]
    }
   ],
   "source": [
    "# 다른 방법(1)\n",
    "def solution(n):\n",
    "    num=set(range(2,n+1))\n",
    "\n",
    "    for i in range(2,n+1):\n",
    "        if i in num:\n",
    "            num-=set(range(2*i,n+1,i))\n",
    "    return len(num)\n",
    "\n",
    "n=10\n",
    "print(solution(n))"
   ]
  }
 ],
 "metadata": {
  "kernelspec": {
   "display_name": "Python 3",
   "language": "python",
   "name": "python3"
  },
  "language_info": {
   "codemirror_mode": {
    "name": "ipython",
    "version": 3
   },
   "file_extension": ".py",
   "mimetype": "text/x-python",
   "name": "python",
   "nbconvert_exporter": "python",
   "pygments_lexer": "ipython3",
   "version": "3.8.5"
  },
  "vp": {
   "base_numbering": 1,
   "nav_menu": {},
   "number_sections": true,
   "sideBar": true,
   "title_cell": "VisualPython",
   "title_sidebar": "VisualPython",
   "vpPosition": {
    "height": "calc(100% - 180px)",
    "right": "10px",
    "top": "110px",
    "width": "50%"
   },
   "vp_cell": false,
   "vp_section_display": true,
   "vp_window_display": false
  }
 },
 "nbformat": 4,
 "nbformat_minor": 4
}

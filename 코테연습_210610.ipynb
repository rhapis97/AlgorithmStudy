{
 "cells": [
  {
   "cell_type": "code",
   "execution_count": 1,
   "metadata": {},
   "outputs": [],
   "source": [
    "# 피보나치 수\n",
    "# 문제 설명\n",
    "# 피보나치 수는 F(0) = 0, F(1) = 1일 때, 1 이상의 n에 대하여 F(n) = F(n-1) + F(n-2) 가 적용되는 수 입니다.\n",
    "\n",
    "# 예를들어\n",
    "\n",
    "# F(2) = F(0) + F(1) = 0 + 1 = 1\n",
    "# F(3) = F(1) + F(2) = 1 + 1 = 2\n",
    "# F(4) = F(2) + F(3) = 1 + 2 = 3\n",
    "# F(5) = F(3) + F(4) = 2 + 3 = 5\n",
    "# 와 같이 이어집니다.\n",
    "\n",
    "# 2 이상의 n이 입력되었을 때, n번째 피보나치 수를 1234567으로 나눈 나머지를 리턴하는 함수, solution을 완성해 주세요.\n",
    "\n",
    "# 제한 사항\n",
    "# * n은 1이상, 100000이하인 자연수입니다.\n",
    "\n",
    "# 입출력 예\n",
    "# n\treturn\n",
    "# 3\t2\n",
    "# 5\t5"
   ]
  },
  {
   "cell_type": "code",
   "execution_count": 8,
   "metadata": {},
   "outputs": [
    {
     "name": "stdout",
     "output_type": "stream",
     "text": [
      "5\n"
     ]
    }
   ],
   "source": [
    "n = 5\n",
    "def fibonacci(n):\n",
    "    if n == 0:\n",
    "        return 0\n",
    "    elif n == 1:\n",
    "        return 1\n",
    "    return (fibonacci(n-1) + fibonacci(n-2))%1234567\n",
    "\n",
    "print(fibonacci(n))\n",
    "# 런타임오류가 난다. 재귀호출은 속도가 너무 느린 모양이다."
   ]
  },
  {
   "cell_type": "code",
   "execution_count": 13,
   "metadata": {},
   "outputs": [],
   "source": [
    "# a=0, b=1 -> a + b = 1\n",
    "# a=1, b=1 -> a + b = 2\n",
    "# a=2, b=1 -> a + b = 3\n",
    "# a=3, b=2 -> a + b = 5     # b는 이전의 a값, a는 이전의 a+b값 업데이트 시키면 될듯?\n",
    "n = 5\n",
    "def solution(n):\n",
    "    a = 0\n",
    "    b = 1\n",
    "    for i in range(2,n+1):\n",
    "        c = a + b\n",
    "        a, b = b, a+b\n",
    "    return c%1234567"
   ]
  },
  {
   "cell_type": "code",
   "execution_count": 14,
   "metadata": {},
   "outputs": [],
   "source": [
    "# 최솟값 만들기\n",
    "# 문제 설명\n",
    "# 길이가 같은 배열 A, B 두개가 있습니다. 각 배열은 자연수로 이루어져 있습니다.\n",
    "# 배열 A, B에서 각각 한 개의 숫자를 뽑아 두 수를 곱합니다. \n",
    "# 이러한 과정을 배열의 길이만큼 반복하며, 두 수를 곱한 값을 누적하여 더합니다. \n",
    "# 이때 최종적으로 누적된 값이 최소가 되도록 만드는 것이 목표입니다. \n",
    "# (단, 각 배열에서 k번째 숫자를 뽑았다면 다음에 k번째 숫자는 다시 뽑을 수 없습니다.)\n",
    "\n",
    "# 예를 들어 A = [1, 4, 2] , B = [5, 4, 4] 라면\n",
    "\n",
    "# A에서 첫번째 숫자인 1, B에서 첫번째 숫자인 5를 뽑아 곱하여 더합니다. (누적된 값 : 0 + 5(1x5) = 5)\n",
    "# A에서 두번째 숫자인 4, B에서 세번째 숫자인 4를 뽑아 곱하여 더합니다. (누적된 값 : 5 + 16(4x4) = 21)\n",
    "# A에서 세번째 숫자인 2, B에서 두번째 숫자인 4를 뽑아 곱하여 더합니다. (누적된 값 : 21 + 8(2x4) = 29)\n",
    "# 즉, 이 경우가 최소가 되므로 29를 return 합니다.\n",
    "\n",
    "# 배열 A, B가 주어질 때 최종적으로 누적된 최솟값을 return 하는 solution 함수를 완성해 주세요.\n",
    "\n",
    "# 제한사항\n",
    "# 배열 A, B의 크기 : 1,000 이하의 자연수\n",
    "# 배열 A, B의 원소의 크기 : 1,000 이하의 자연수\n",
    "# 입출력 예\n",
    "# A\tB\tanswer\n",
    "# [1, 4, 2]\t[5, 4, 4]\t29\n",
    "# [1,2]\t[3,4]\t10"
   ]
  },
  {
   "cell_type": "code",
   "execution_count": 20,
   "metadata": {},
   "outputs": [
    {
     "name": "stdout",
     "output_type": "stream",
     "text": [
      "10\n"
     ]
    }
   ],
   "source": [
    "A = [1, 2]\n",
    "B = [3, 4]\n",
    "def solution(A,B):\n",
    "    c=0\n",
    "    A.sort()\n",
    "    B.sort(reverse=True)\n",
    "\n",
    "    for a, b in zip(A, B):\n",
    "        c += a*b\n",
    "    return c"
   ]
  },
  {
   "cell_type": "code",
   "execution_count": 21,
   "metadata": {},
   "outputs": [
    {
     "name": "stdout",
     "output_type": "stream",
     "text": [
      "10\n"
     ]
    }
   ],
   "source": [
    "def getMinSum(A,B):\n",
    "    return sum(a*b for a, b in zip(sorted(A), sorted(B, reverse = True)))\n",
    "# 내가 한 방법과 거의 똑같다.\n",
    "# sum을 이용하여 리턴값을 구한 부분이 다르다.\n",
    "\n",
    "print(getMinSum([1,2],[3,4]))"
   ]
  }
 ],
 "metadata": {
  "kernelspec": {
   "display_name": "Python 3",
   "language": "python",
   "name": "python3"
  },
  "language_info": {
   "codemirror_mode": {
    "name": "ipython",
    "version": 3
   },
   "file_extension": ".py",
   "mimetype": "text/x-python",
   "name": "python",
   "nbconvert_exporter": "python",
   "pygments_lexer": "ipython3",
   "version": "3.8.5"
  },
  "vp": {
   "base_numbering": 1,
   "nav_menu": {},
   "number_sections": true,
   "sideBar": true,
   "title_cell": "VisualPython",
   "title_sidebar": "VisualPython",
   "vpPosition": {
    "height": "calc(100% - 180px)",
    "right": "10px",
    "top": "110px",
    "width": "50%"
   },
   "vp_cell": false,
   "vp_section_display": true,
   "vp_window_display": false
  }
 },
 "nbformat": 4,
 "nbformat_minor": 4
}

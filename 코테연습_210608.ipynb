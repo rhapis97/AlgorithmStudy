{
 "cells": [
  {
   "cell_type": "code",
   "execution_count": 1,
   "metadata": {},
   "outputs": [],
   "source": [
    "# 모의고사\n",
    "# 문제 설명\n",
    "# 수포자는 수학을 포기한 사람의 준말입니다. 수포자 삼인방은 모의고사에 수학 문제를 전부 찍으려 합니다. \n",
    "# 수포자는 1번 문제부터 마지막 문제까지 다음과 같이 찍습니다.\n",
    "\n",
    "# 1번 수포자가 찍는 방식: 1, 2, 3, 4, 5, 1, 2, 3, 4, 5, ...\n",
    "# 2번 수포자가 찍는 방식: 2, 1, 2, 3, 2, 4, 2, 5, 2, 1, 2, 3, 2, 4, 2, 5, ...\n",
    "# 3번 수포자가 찍는 방식: 3, 3, 1, 1, 2, 2, 4, 4, 5, 5, 3, 3, 1, 1, 2, 2, 4, 4, 5, 5, ...\n",
    "\n",
    "# 1번 문제부터 마지막 문제까지의 정답이 순서대로 들은 배열 answers가 주어졌을 때, \n",
    "# 가장 많은 문제를 맞힌 사람이 누구인지 배열에 담아 return 하도록 solution 함수를 작성해주세요.\n",
    "\n",
    "# 제한 조건\n",
    "# 시험은 최대 10,000 문제로 구성되어있습니다.\n",
    "# 문제의 정답은 1, 2, 3, 4, 5중 하나입니다.\n",
    "# 가장 높은 점수를 받은 사람이 여럿일 경우, return하는 값을 오름차순 정렬해주세요.\n",
    "# 입출력 예\n",
    "# answers\treturn\n",
    "# [1,2,3,4,5]\t[1]\n",
    "# [1,3,2,4,2]\t[1,2,3]"
   ]
  },
  {
   "cell_type": "code",
   "execution_count": 113,
   "metadata": {},
   "outputs": [],
   "source": [
    "answers = [1,1,3,5,1]\n",
    "\n",
    "def solution(answers):\n",
    "    student = [[1,2,3,4,5], [2,1,2,3,2,4,2,5], [3,3,1,1,2,2,4,4,5,5]]\n",
    "    answer_len = len(answers)\n",
    "    num = 0\n",
    "    count_list = []\n",
    "    for i in student:\n",
    "        i = i*(answer_len//len(i)) + i[:(answer_len%len(i))]\n",
    "        count = 0\n",
    "        num += 1\n",
    "        for a, b in zip(answers, i):\n",
    "            if a == b:\n",
    "                count += 1\n",
    "        count_list.append(count)    # 각 학생마다 몇 개의 정답이 맞았는지 리스트 형태로 도출\n",
    "    double_cnt = count_list.count(max(count_list))    # 1등 수 세기\n",
    "    if double_cnt == 1:      # 1등이 한 명일 때\n",
    "        return [count_list.index(max(count_list))+1]\n",
    "    elif double_cnt == 2:    # 1등이 두 명일 때 - 내림차순 정렬\n",
    "        answer_list = []\n",
    "        answer_list.append(count_list.index(max(count_list))+1)\n",
    "        count_list[count_list.index(max(count_list))] = -1\n",
    "        answer_list.append(count_list.index(max(count_list))+1)\n",
    "        return answer_list\n",
    "    else:                    # 모두 같은 점수일 때\n",
    "        return [1,2,3]"
   ]
  },
  {
   "cell_type": "code",
   "execution_count": 121,
   "metadata": {},
   "outputs": [],
   "source": [
    "# 다른 방법(1)\n",
    "def solution(answers):\n",
    "    pattern1 = [1,2,3,4,5]\n",
    "    pattern2 = [2,1,2,3,2,4,2,5]\n",
    "    pattern3 = [3,3,1,1,2,2,4,4,5,5]\n",
    "    score = [0, 0, 0]\n",
    "    result = []\n",
    "\n",
    "    for idx, answer in enumerate(answers):\n",
    "        if answer == pattern1[idx%len(pattern1)]:    # %를 이용하여 answer가 얼마나 길든지간에 패턴을 계속하여 사용\n",
    "            score[0] += 1\n",
    "        if answer == pattern2[idx%len(pattern2)]:\n",
    "            score[1] += 1\n",
    "        if answer == pattern3[idx%len(pattern3)]:\n",
    "            score[2] += 1\n",
    "\n",
    "    for idx, s in enumerate(score):\n",
    "        if s == max(score):         # 1등 점수일 때\n",
    "            result.append(idx+1)    # 인덱스+1한 숫자를 result에 추가(따로 sort하지 않아도 차례대로 추가됨)\n",
    "\n",
    "    return result"
   ]
  },
  {
   "cell_type": "code",
   "execution_count": 122,
   "metadata": {},
   "outputs": [],
   "source": [
    "# 다른 방법(2)\n",
    "def solution(answers):\n",
    "    p = [[1, 2, 3, 4, 5],\n",
    "         [2, 1, 2, 3, 2, 4, 2, 5],\n",
    "         [3, 3, 1, 1, 2, 2, 4, 4, 5, 5]]\n",
    "    s = [0] * len(p)    # [0, 0, 0]과 같음\n",
    "\n",
    "    for q, a in enumerate(answers):\n",
    "        for i, v in enumerate(p):\n",
    "            if a == v[q % len(v)]:\n",
    "                s[i] += 1\n",
    "    return [i + 1 for i, v in enumerate(s) if v == max(s)]    # 위의 방법을 조금 더 짧게 표현한 것이다."
   ]
  },
  {
   "cell_type": "code",
   "execution_count": 123,
   "metadata": {},
   "outputs": [
    {
     "name": "stdout",
     "output_type": "stream",
     "text": [
      "[1]\n"
     ]
    }
   ],
   "source": [
    "# 다른 방법(3)\n",
    "from itertools import cycle    # cycle: 리스트를 무한히 순환\n",
    "\n",
    "def solution(answers):\n",
    "    giveups = [\n",
    "        cycle([1,2,3,4,5]),\n",
    "        cycle([2,1,2,3,2,4,2,5]),\n",
    "        cycle([3,3,1,1,2,2,4,4,5,5]),\n",
    "    ]\n",
    "    scores = [0, 0, 0]\n",
    "    for num in answers:\n",
    "        for i in range(3):\n",
    "            if next(giveups[i]) == num:\n",
    "                scores[i] += 1\n",
    "    highest = max(scores)\n",
    "\n",
    "    return [i + 1 for i, v in enumerate(scores) if v == highest]\n",
    "answers = [1,2,3,4,5]\n",
    "print(solution(answers))"
   ]
  }
 ],
 "metadata": {
  "kernelspec": {
   "display_name": "Python 3",
   "language": "python",
   "name": "python3"
  },
  "language_info": {
   "codemirror_mode": {
    "name": "ipython",
    "version": 3
   },
   "file_extension": ".py",
   "mimetype": "text/x-python",
   "name": "python",
   "nbconvert_exporter": "python",
   "pygments_lexer": "ipython3",
   "version": "3.8.5"
  },
  "vp": {
   "base_numbering": 1,
   "nav_menu": {},
   "number_sections": true,
   "sideBar": true,
   "title_cell": "VisualPython",
   "title_sidebar": "VisualPython",
   "vpPosition": {
    "height": "calc(100% - 180px)",
    "right": "10px",
    "top": "110px",
    "width": "50%"
   },
   "vp_cell": false,
   "vp_section_display": true,
   "vp_window_display": false
  }
 },
 "nbformat": 4,
 "nbformat_minor": 4
}

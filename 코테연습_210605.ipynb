{
 "cells": [
  {
   "cell_type": "code",
   "execution_count": 1,
   "metadata": {},
   "outputs": [],
   "source": [
    "# 실패율은 다음과 같이 정의한다.\n",
    "# 스테이지에 도달했으나 아직 클리어하지 못한 플레이어의 수 / 스테이지에 도달한 플레이어 수\n",
    "# 전체 스테이지의 개수 N, 게임을 이용하는 사용자가 현재 멈춰있는 스테이지의 번호가 담긴 배열 stages가 매개변수로 주어질 때, \n",
    "# 실패율이 높은 스테이지부터 내림차순으로 스테이지의 번호가 담겨있는 배열을 return 하도록 solution 함수를 완성하라.\n",
    "\n",
    "# 제한사항\n",
    "# 스테이지의 개수 N은 1 이상 500 이하의 자연수이다.\n",
    "# stages의 길이는 1 이상 200,000 이하이다.\n",
    "# stages에는 1 이상 N + 1 이하의 자연수가 담겨있다.\n",
    "# 각 자연수는 사용자가 현재 도전 중인 스테이지의 번호를 나타낸다.\n",
    "# 단, N + 1 은 마지막 스테이지(N 번째 스테이지) 까지 클리어 한 사용자를 나타낸다.\n",
    "# 만약 실패율이 같은 스테이지가 있다면 작은 번호의 스테이지가 먼저 오도록 하면 된다.\n",
    "# 스테이지에 도달한 유저가 없는 경우 해당 스테이지의 실패율은 0 으로 정의한다.\n",
    "\n",
    "# 입출력 예\n",
    "# N\tstages\tresult\n",
    "# 5\t[2, 1, 2, 6, 2, 4, 3, 3]\t[3,4,2,1,5]\n",
    "# 4\t[4,4,4,4,4]\t[4,1,2,3]"
   ]
  },
  {
   "cell_type": "code",
   "execution_count": 2,
   "metadata": {},
   "outputs": [
    {
     "data": {
      "text/plain": [
       "[3, 4, 2, 1, 5]"
      ]
     },
     "execution_count": 2,
     "metadata": {},
     "output_type": "execute_result"
    }
   ],
   "source": [
    "N = 5\n",
    "stages = [2, 1, 2, 6, 2, 4, 3, 3]\n",
    "\n",
    "# 스테이지마다 머무르는 유저수 구하기\n",
    "stage_list = [0]*(N+1)\n",
    "for i in stages:\n",
    "    stage_list[i-1] += 1\n",
    "\n",
    "# 실패율 구하기\n",
    "fail_per = []\n",
    "player_num = len(stages)\n",
    "for i in range(N+1):\n",
    "    if player_num == 0:\n",
    "        fail_per.append(0)\n",
    "        continue\n",
    "    fail_per.append(stage_list[i]/player_num)\n",
    "    player_num -= stage_list[i]\n",
    "del fail_per[-1]\n",
    "\n",
    "# 각 스테이지와 실패율 짝지은 후 실패율 기준으로 내림차순 정렬하기\n",
    "fail_dict = {}\n",
    "for a, b in zip(range(N+1),fail_per):\n",
    "    fail_dict[a] = b\n",
    "fail_dict = sorted(fail_dict.items(), key=lambda x: x[1], reverse=True)\n",
    "\n",
    "answer = []\n",
    "for i in fail_dict:\n",
    "    answer.append(i[0]+1)\n",
    "answer"
   ]
  },
  {
   "cell_type": "code",
   "execution_count": 3,
   "metadata": {},
   "outputs": [
    {
     "name": "stdout",
     "output_type": "stream",
     "text": [
      "[3, 4, 2, 1, 5]\n"
     ]
    }
   ],
   "source": [
    "N = 5\n",
    "stages = [2, 1, 2, 6, 2, 4, 3, 3]\n",
    "def solution(N, stages):\n",
    "    stage_list = [0]*(N+1)\n",
    "    for i in stages:\n",
    "        stage_list[i-1] += 1\n",
    "\n",
    "    fail_per = {}\n",
    "    p_num = len(stages)\n",
    "    for i in range(N+1):\n",
    "        if p_num == 0:\n",
    "            fail_per[i+1] = 0\n",
    "            continue\n",
    "        fail_per[i+1] = stage_list[i]/p_num\n",
    "        p_num -= stage_list[i]\n",
    "    del fail_per[N+1]\n",
    "\n",
    "    fail_per = sorted(fail_per.items(), key=lambda x: x[1], reverse=True)\n",
    "\n",
    "    answer = []\n",
    "    for i in fail_per:\n",
    "        answer.append(i[0])\n",
    "    return answer\n",
    "\n",
    "print(solution(N, stages))"
   ]
  },
  {
   "cell_type": "code",
   "execution_count": 4,
   "metadata": {},
   "outputs": [
    {
     "name": "stdout",
     "output_type": "stream",
     "text": [
      "[3, 4, 2, 1, 5]\n"
     ]
    }
   ],
   "source": [
    "def solution(N, stages):\n",
    "    result = {}\n",
    "    denominator = len(stages)\n",
    "    for stage in range(1, N+1):\n",
    "        if denominator != 0:\n",
    "            count = stages.count(stage)\n",
    "            result[stage] = count / denominator\n",
    "            denominator -= count\n",
    "        else:\n",
    "            result[stage] = 0\n",
    "    return sorted(result, key=lambda x : result[x], reverse=True)\n",
    "\n",
    "print(solution(N, stages))"
   ]
  },
  {
   "cell_type": "code",
   "execution_count": 5,
   "metadata": {},
   "outputs": [
    {
     "name": "stdout",
     "output_type": "stream",
     "text": [
      "{1: 0.125, 2: 0.42857142857142855, 3: 0.5, 4: 0.5, 5: 0.0}\n",
      "[3, 4, 2, 1, 5]\n"
     ]
    }
   ],
   "source": [
    "N = 5\n",
    "stages = [2, 1, 2, 6, 2, 4, 3, 3]\n",
    "\n",
    "def solution(N, stages):\n",
    "    stage_list = [0]*(N+1)\n",
    "    for i in stages:\n",
    "        stage_list[i-1] += 1\n",
    "\n",
    "    fail_per = {}\n",
    "    p_num = len(stages)\n",
    "    for i in range(N+1):\n",
    "        if p_num == 0:\n",
    "            fail_per[i+1] = 0\n",
    "            continue\n",
    "        fail_per[i+1] = stage_list[i]/p_num\n",
    "        p_num -= stage_list[i]\n",
    "    del fail_per[N+1]\n",
    "    print(fail_per)\n",
    "    return sorted(fail_per, key=lambda x : fail_per[x], reverse=True)\n",
    "    # fail_per는 dictionary이므로 sorted에 result를 그냥 넘기면 result의 keys가 들어간다. keys는 생략이 가능. \n",
    "    # 거기에 lambda는 기준을 result[x]: 즉 value로 정렬한다는 뜻. 그래서 key가 출력.\n",
    "\n",
    "print(solution(N,stages))"
   ]
  },
  {
   "cell_type": "code",
   "execution_count": 6,
   "metadata": {},
   "outputs": [
    {
     "name": "stdout",
     "output_type": "stream",
     "text": [
      "[3, 4, 2, 1, 5]\n"
     ]
    }
   ],
   "source": [
    "def solution(N, stages):\n",
    "    fail = {}\n",
    "    for i in range(1,N+1):\n",
    "        try:\n",
    "            fail_ = len([a for a in stages if a==i])/len([a for a in stages if a>=i])\n",
    "        except:\n",
    "            fail_ = 0\n",
    "        fail[i]=fail_\n",
    "    answer = sorted(fail, key=fail.get, reverse=True)    # .get을 통해 딕셔너리의 value를 불러옴\n",
    "    return answer\n",
    "\n",
    "print(solution(N, stages))"
   ]
  },
  {
   "cell_type": "code",
   "execution_count": 7,
   "metadata": {},
   "outputs": [],
   "source": [
    "# 네오는 평소 프로도가 비상금을 숨겨놓는 장소를 알려줄 비밀지도를 손에 넣었다. \n",
    "# 그런데 이 비밀지도는 숫자로 암호화되어 있어 위치를 확인하기 위해서는 암호를 해독해야 한다. \n",
    "# 다행히 지도 암호를 해독할 방법을 적어놓은 메모도 함께 발견했다.\n",
    "\n",
    "# 지도는 한 변의 길이가 n인 정사각형 배열 형태로, 각 칸은 \"공백\"(\" \") 또는 \"벽\"(\"#\") 두 종류로 이루어져 있다.\n",
    "# 전체 지도는 두 장의 지도를 겹쳐서 얻을 수 있다. 각각 \"지도 1\"과 \"지도 2\"라고 하자. \n",
    "# 지도 1 또는 지도 2 중 어느 하나라도 벽인 부분은 전체 지도에서도 벽이다. \n",
    "# 지도 1과 지도 2에서 모두 공백인 부분은 전체 지도에서도 공백이다.\n",
    "# \"지도 1\"과 \"지도 2\"는 각각 정수 배열로 암호화되어 있다.\n",
    "# 암호화된 배열은 지도의 각 가로줄에서 벽 부분을 1, 공백 부분을 0으로 부호화했을 때 얻어지는 이진수에 해당하는 값의 배열이다.\n",
    "\n",
    "# 매개변수\t값\n",
    "# n\t5\n",
    "# arr1\t[9, 20, 28, 18, 11]\n",
    "# arr2\t[30, 1, 21, 17, 28]\n",
    "# 출력\t[\"#####\",\"# # #\", \"### #\", \"# ##\", \"#####\"]"
   ]
  },
  {
   "cell_type": "code",
   "execution_count": 8,
   "metadata": {},
   "outputs": [
    {
     "name": "stdout",
     "output_type": "stream",
     "text": [
      "['#####', '# # #', '### #', '#  ##', '#####']\n"
     ]
    }
   ],
   "source": [
    "n = 5\n",
    "arr1 = [9, 20, 28, 18, 11]\n",
    "arr2 = [30, 1, 21, 17, 28]\n",
    "\n",
    "# 내가 만든 방법\n",
    "\n",
    "def solution(n, arr1, arr2):\n",
    "    def make_bin_list(n, arr):  # 리스트의 십진수 원소를 이진수로 만드는 함수\n",
    "        n_list = []\n",
    "        for i in arr:\n",
    "            a_list = bin(i)[2:]         # bin()을 통해 이진수로 만들고 앞에 붙는 '0b'를 제외하기 위해 슬라이싱 기법 활용\n",
    "            if len(bin(i)[2:]) != n:    # 이진수 길이가 모자랄 때\n",
    "                a_list = '0'*(n-len(bin(i)[2:])) + a_list     # 앞에 모자란 길이 만큼 0을 추가한다.\n",
    "            n_list.append(a_list)\n",
    "        return n_list\n",
    "\n",
    "    a = make_bin_list(n, arr1)    # 각각의 리스트의 원소를 위 함수를 통해 이진수로 만든다.\n",
    "    b = make_bin_list(n, arr2)\n",
    "    answer = ['' for i in range(n)]    # 미리 빈 리스트를 마련한다.\n",
    "    n1, n2 = -1, -1                    # 아래 for문에서 이중 인덱스[n1][n2]를 표현하기 위해 기본값 -1 설정\n",
    "    for i,j in zip(a,b):        # zip()을 통해 여러 개를 한 번에 받는다.\n",
    "        n1 += 1\n",
    "        for k, l in zip(i,j):\n",
    "            n2 += 1\n",
    "            if k == '0' and l == '0':  # 공백일 때(둘 다 벽(1)이 아닐 때)\n",
    "                answer[n1] += ' '\n",
    "            else:                       # 벽일 때\n",
    "                answer[n1] += '#'\n",
    "        n2 = -1    # 다시 초기화\n",
    "    return answer\n",
    "\n",
    "print(solution(n, arr1, arr2))"
   ]
  },
  {
   "cell_type": "code",
   "execution_count": 9,
   "metadata": {},
   "outputs": [
    {
     "name": "stdout",
     "output_type": "stream",
     "text": [
      "['#####', '# # #', '### #', '#  ##', '#####']\n"
     ]
    }
   ],
   "source": [
    "# 다른 방법(1)\n",
    "def solution(n, arr1, arr2):\n",
    "    answer = []\n",
    "    for i,j in zip(arr1,arr2):\n",
    "        a12 = str(bin(i|j)[2:])\n",
    "        # bin()은 이진수로 변환하는 함수(앞에 '0b'가 붙으므로 슬라이싱[2:]을 통해 앞의 '0b'를 제외한 것만 사용한다.)\n",
    "        # bin(a|b)의 경우 a를 이진수로 변환한 경우와 b를 이진수로 변환한 경우 자릿수를 비교하여 1에 해당하면 모두 1로 변환\n",
    "        a12=a12.rjust(n,'0')\n",
    "        # rjust 오른쪽으로 정렬하도록 도와준다.\n",
    "        # rjust를 통해 공백의 수, 공백을 메워줄 문자를 넣어준다.\n",
    "        # ljust도 있다.(왼쪽으로 정렬)\n",
    "        # zfill: 이는 0을 왼쪽에 채워주는 역할을 한다.\n",
    "        a12=a12.replace('1','#')\n",
    "        a12=a12.replace('0',' ')\n",
    "        answer.append(a12)\n",
    "    return answer\n",
    "\n",
    "print(solution(n, arr1, arr2))"
   ]
  },
  {
   "cell_type": "code",
   "execution_count": 10,
   "metadata": {},
   "outputs": [],
   "source": [
    "# 다른 방법(2)\n",
    "solution = lambda n, arr1, arr2: ([''.join(map(lambda x: '#' if x=='1' else ' ', \"{0:b}\".format(row).zfill(n))) for row in (a|b for a, b in zip(arr1, arr2))])"
   ]
  },
  {
   "cell_type": "code",
   "execution_count": null,
   "metadata": {},
   "outputs": [],
   "source": [
    "# 위 코드 해설\n",
    "solution = lambda n, arr1, arr2: \n",
    "    ([''.join(    # 합치기\n",
    "        map(      # map(): 파이썬의 내장 함수인 map()는 여러 개의 데이터를 한 번에 다른 형태로 변환하기 위해서 사용 \n",
    "                  # 따라서, 여러 개의 데이터를 담고 있는 list나 tuple을 대상으로 주로 사용\n",
    "                  # map(변환 함수, 순회 가능한 데이터)\n",
    "            lambda x: '#' if x=='1' else ' '    # 변환 함수에 lambda를 이용하여 1인 경우 '#', 아닌 경우 공백 지정\n",
    "                    , \"{0:b}\".format(row).zfill(n)\n",
    "                    # 순회 가능한 데이터로 \"{0:b}\".format(row).zfill(n)\n",
    "                    # \"{0:b}\".format(row)은 row(여기에선 a|b)에 해당하는 십진수를 이진수로 표현한다는 뜻\n",
    "                    # 그에 따라 a를 이진수로 바꾼 것과, b를 이진수로 바꾼 것에 or개념을 도입하여 합친다.\n",
    "                    # zfill(n): 왼쪽에 빈 자리 만큼 0을 추가\n",
    "        )\n",
    "    ) for row in (a|b for a, b in zip(arr1, arr2))])  # arr1, arr2를 동시에 a,b로 받아서 a|b를 row에 할당"
   ]
  },
  {
   "cell_type": "code",
   "execution_count": 11,
   "metadata": {},
   "outputs": [
    {
     "name": "stdout",
     "output_type": "stream",
     "text": [
      "['#####', '# # #', '### #', '#  ##', '#####']\n"
     ]
    }
   ],
   "source": [
    "# 다른 방법(3)\n",
    "import re    # 정규표현식 이용\n",
    "\n",
    "def solution(n, arr1, arr2):\n",
    "    answer = [\"#\"]*n\n",
    "    for i in range(0, n):\n",
    "        answer[i] = str(bin(arr1[i]|arr2[i]))[2:]\n",
    "        answer[i] = re.sub('1', '#', '0'*(n-len(answer[i]))+answer[i])  # re.sub（정규 표현식, 대상 문자열 , 치환 문자）\n",
    "        answer[i] = re.sub('0', ' ', answer[i])\n",
    "    return answer\n",
    "\n",
    "print(solution(n, arr1, arr2))"
   ]
  },
  {
   "cell_type": "markdown",
   "metadata": {},
   "source": [
    "https://ponyozzang.tistory.com/335"
   ]
  },
  {
   "cell_type": "code",
   "execution_count": 12,
   "metadata": {},
   "outputs": [
    {
     "name": "stdout",
     "output_type": "stream",
     "text": [
      "['#####', '# # #', '### #', '#  ##', '#####']\n"
     ]
    }
   ],
   "source": [
    "# 다른 방법(4)\n",
    "def solution(n, arr1, arr2):\n",
    "    answer = []\n",
    "    for index in range(0,n):\n",
    "        answer.append(str(bin(arr1[index] | arr2[index] | pow(2,n))).replace(\"0b1\",\"\").replace(\"1\",\"#\").replace(\"0\",\" \"))\n",
    "        # pow(a, b) : a의 b제곱\n",
    "        # pow(2,n)을 통해 이진수의 자릿수를 항상 n+1자리로 맞추고 있다.\n",
    "        pass\n",
    "\n",
    "    return answer\n",
    "\n",
    "print(solution(n, arr1, arr2))"
   ]
  }
 ],
 "metadata": {
  "kernelspec": {
   "display_name": "Python 3",
   "language": "python",
   "name": "python3"
  },
  "language_info": {
   "codemirror_mode": {
    "name": "ipython",
    "version": 3
   },
   "file_extension": ".py",
   "mimetype": "text/x-python",
   "name": "python",
   "nbconvert_exporter": "python",
   "pygments_lexer": "ipython3",
   "version": "3.8.5"
  },
  "vp": {
   "base_numbering": 1,
   "nav_menu": {},
   "number_sections": true,
   "sideBar": true,
   "title_cell": "VisualPython",
   "title_sidebar": "VisualPython",
   "vpPosition": {
    "height": "calc(100% - 180px)",
    "right": "10px",
    "top": "110px",
    "width": "50%"
   },
   "vp_cell": false,
   "vp_section_display": true,
   "vp_window_display": false
  }
 },
 "nbformat": 4,
 "nbformat_minor": 4
}
